{
 "cells": [
  {
   "cell_type": "code",
   "execution_count": 1,
   "id": "594635ab-9ad8-4d03-b695-b484c3a35062",
   "metadata": {},
   "outputs": [],
   "source": [
    "import sys\n",
    "import os\n",
    "import pickle\n",
    "import numpy as np\n",
    "\n",
    "sys.path.append(os.path.abspath(os.path.join('..', 'src')))"
   ]
  },
  {
   "cell_type": "code",
   "execution_count": 2,
   "id": "b43144f0-1963-40e0-bd23-8674993897a9",
   "metadata": {},
   "outputs": [],
   "source": [
    "from torch_geometric.utils import to_dense_adj\n",
    "import torch.nn.functional as F\n",
    "from utils import get_edge_index_and_theta\n",
    "from model import FuzzyDirGCN\n",
    "import torch\n",
    "\n",
    "import importlib\n",
    "import utils.data_loading\n",
    "\n",
    "# Reload the entire module\n",
    "importlib.reload(utils.data_loading)\n",
    "\n",
    "# Now, re-import the specific function\n",
    "from utils.data_loading import (\n",
    "    get_classification_dataset,\n",
    "    get_graph_ensemble_dataset,\n",
    ")\n"
   ]
  },
  {
   "cell_type": "code",
   "execution_count": 3,
   "id": "0e92df8f-d977-42e0-a515-4d354d9fdb7a",
   "metadata": {},
   "outputs": [],
   "source": [
    "def set_seed(seed):\n",
    "    # Set the seed for Python's built-in random module\n",
    "    # Set the seed for NumPy (if you're using it)\n",
    "    np.random.seed(seed)\n",
    "    # Set the seed for PyTorch\n",
    "    torch.manual_seed(seed)\n",
    "    # If using a GPU, ensure that all operations are deterministic\n",
    "    if torch.cuda.is_available():\n",
    "        torch.cuda.manual_seed(seed)\n",
    "        torch.cuda.manual_seed_all(seed)\n",
    "        torch.backends.cudnn.deterministic = True\n",
    "        torch.backends.cudnn.benchmark = False"
   ]
  },
  {
   "cell_type": "code",
   "execution_count": 4,
   "id": "85ed4c1c-0d29-4051-b51d-c566b78805c3",
   "metadata": {},
   "outputs": [],
   "source": [
    "data, mask = get_classification_dataset('cora')"
   ]
  },
  {
   "cell_type": "code",
   "execution_count": 30,
   "id": "8e7db4d7-7ff0-4d45-b90e-57fb05dbc4b1",
   "metadata": {},
   "outputs": [],
   "source": [
    "data = pickle.load(open('../datasets/perturb_seq/Replogle-gwps_training_data_with_three_splits.pkl', 'rb'))"
   ]
  },
  {
   "cell_type": "code",
   "execution_count": 32,
   "id": "53a49863-5f1c-497d-a99e-841dbc10c9fe",
   "metadata": {},
   "outputs": [
    {
     "data": {
      "text/plain": [
       "dict_keys(['training_data', 'val_data', 'test_data', 'training_data_count', 'val_data_count', 'test_data_count', 'graph_info'])"
      ]
     },
     "execution_count": 32,
     "metadata": {},
     "output_type": "execute_result"
    }
   ],
   "source": [
    "data[0].keys()"
   ]
  },
  {
   "cell_type": "code",
   "execution_count": 34,
   "id": "1d818485-663f-4f6c-bce3-83143a94570e",
   "metadata": {},
   "outputs": [
    {
     "data": {
      "text/plain": [
       "array([[   0,    0,    0, ..., 1992, 1993, 1995],\n",
       "       [  21,  244,  473, ..., 1998, 1998, 1998]])"
      ]
     },
     "execution_count": 34,
     "metadata": {},
     "output_type": "execute_result"
    }
   ],
   "source": [
    "data[0]['graph_info'][3]['edge_indices']"
   ]
  },
  {
   "cell_type": "code",
   "execution_count": 36,
   "id": "ecce38ea-bc43-44bc-87cf-fc78478fed2a",
   "metadata": {},
   "outputs": [],
   "source": [
    "pickle.dump(\n",
    "    {'train_data': data[0]['training_data_count'],\n",
    "     'val_data': data[0]['val_data_count'],\n",
    "     'test_data': data[0]['test_data_count'],\n",
    "     'edge_index': data[0]['graph_info'][3]['edge_indices']},\n",
    "    open('../datasets/perturb_seq/Replogle-gwps.pkl', 'wb'))"
   ]
  },
  {
   "cell_type": "code",
   "execution_count": 134,
   "id": "628c7401-fe78-4ec3-a326-8de102ec606e",
   "metadata": {},
   "outputs": [],
   "source": [
    "train_loader, val_loader, test_loader, pe = get_graph_ensemble_dataset(\n",
    "    'lattice', undirected=False, pe_type='eigenvector', pe_dim=10)\n"
   ]
  },
  {
   "cell_type": "code",
   "execution_count": 143,
   "id": "1991e07c-a382-4bd0-b87c-81e3a9720404",
   "metadata": {},
   "outputs": [],
   "source": [
    "train_loader, val_loader, test_loader = get_graph_ensemble_dataset(\n",
    "    'perturb_seq')\n"
   ]
  },
  {
   "cell_type": "code",
   "execution_count": 144,
   "id": "71ba1ddd-8f84-47eb-bd06-0ed1475d9e34",
   "metadata": {},
   "outputs": [
    {
     "data": {
      "text/plain": [
       "DataBatch(x=[32000, 1], edge_index=[2, 94928], y=[32000, 1], mask=[32000], batch=[32000], ptr=[17])"
      ]
     },
     "execution_count": 144,
     "metadata": {},
     "output_type": "execute_result"
    }
   ],
   "source": [
    "next(iter(train_loader))"
   ]
  },
  {
   "cell_type": "code",
   "execution_count": 156,
   "id": "767832c0-a964-4581-bf7d-9ae4488f32a6",
   "metadata": {},
   "outputs": [],
   "source": [
    "train_loader, val_loader, test_loader, meta_data = get_graph_ensemble_dataset(\n",
    "    'power_grid', '/sahandlab/Team/directifying_graph/ICLR/datasets')"
   ]
  },
  {
   "cell_type": "markdown",
   "id": "629fbc38-5d89-462d-aebe-7e937db0df0c",
   "metadata": {},
   "source": [
    "## Model loading"
   ]
  },
  {
   "cell_type": "markdown",
   "id": "37b86c4e-c39f-4879-a908-eee8e77108eb",
   "metadata": {},
   "source": [
    "### 1. Table 1"
   ]
  },
  {
   "cell_type": "code",
   "execution_count": 4,
   "id": "1a263678-d3a3-48c7-9186-900db1473b09",
   "metadata": {},
   "outputs": [
    {
     "name": "stdout",
     "output_type": "stream",
     "text": [
      "tensor(50., device='cuda:0')\n"
     ]
    }
   ],
   "source": [
    "# CoED\n",
    "device = torch.device('cuda:0')\n",
    "data, (train_mask, val_mask, test_mask) = get_classification_dataset('chameleon', device='cuda:0')\n",
    "\n",
    "adj = to_dense_adj(data.edge_index)[0]\n",
    "print(adj[np.diag_indices(len(adj))].sum())\n",
    "#adj.fill_diagonal_(0.0)\n",
    "\n",
    "src_to_dst_edge, dst_to_src_edge, theta = get_edge_index_and_theta(adj)\n",
    "theta = theta.float()\n",
    "edge_index = src_to_dst_edge #.to(device)\n",
    "edge_weight = torch.ones(edge_index.shape[1]) # .to(device)\n",
    "\n",
    "num_nodes, num_edges = data.x.shape[0], edge_index.shape[1]"
   ]
  },
  {
   "cell_type": "code",
   "execution_count": 5,
   "id": "e646b2a4-666e-41d1-bf8f-df3c42f15052",
   "metadata": {},
   "outputs": [],
   "source": [
    "def train(x, y, model, optimizer, edge_index, theta, edge_weight, mask, index=None):\n",
    "    model.train()\n",
    "    optimizer.zero_grad()\n",
    "    if index is not None:\n",
    "        loss = F.nll_loss( #F.cross_entropy(\n",
    "            model(x, edge_index, theta, edge_weight)[mask[:, index]], \n",
    "            #model(x, edge_index)[mask[:, index]], \n",
    "            y[mask[:, index]])\n",
    "    else:\n",
    "        loss = F.nll_loss( #F.cross_entropy(\n",
    "            model(x, edge_index, theta, edge_weight)[mask], \n",
    "            #model(x, edge_index)[mask], \n",
    "            y[mask])  \n",
    "    loss.backward()\n",
    "    optimizer.step()\n",
    "    return loss.item()\n",
    "\n",
    "\n",
    "@torch.no_grad()\n",
    "def test(x, y, model, optimizer, edge_index, theta, edge_weight, masks, index):\n",
    "    model.eval()\n",
    "    log_probs, accs = model(x, edge_index, theta, edge_weight), []\n",
    "    #log_probs, accs = model(x, edge_index), []\n",
    "    for mask in masks:\n",
    "        if index is not None:\n",
    "            pred = log_probs[mask[:, index]].max(1)[1]\n",
    "            acc = pred.eq(y[mask[:, index]]).sum().item() / mask[:, index].sum().item()\n",
    "        else:\n",
    "            pred = log_probs[mask].max(1)[1]\n",
    "            acc = pred.eq(y[mask]).sum().item() / mask.sum().item()            \n",
    "        accs.append(acc)\n",
    "    return accs"
   ]
  },
  {
   "cell_type": "code",
   "execution_count": 7,
   "id": "1cac60dd-17ee-4392-8e14-49e71eeb9251",
   "metadata": {},
   "outputs": [
    {
     "name": "stdout",
     "output_type": "stream",
     "text": [
      "index: 0 | Epoch: 050, Loss: 0.29700, Train: 0.9359, Val: 0.7517, Best: 0.7368, early_stopping: 3\n",
      "index: 0 | Epoch: 100, Loss: 0.11464, Train: 0.9652, Val: 0.7819, Best: 0.7719, early_stopping: 5\n",
      "index: 0 | Epoch: 150, Loss: 0.08755, Train: 0.9799, Val: 0.7805, Best: 0.7763, early_stopping: 49\n",
      "index: 0 | Epoch: 200, Loss: 0.06627, Train: 0.9817, Val: 0.7737, Best: 0.7763, early_stopping: 99\n",
      "index: 1 | Epoch: 050, Loss: 0.30681, Train: 0.9222, Val: 0.7503, Best: 0.8092, early_stopping: 0\n",
      "index: 1 | Epoch: 100, Loss: 0.11109, Train: 0.9725, Val: 0.7641, Best: 0.8202, early_stopping: 10\n",
      "index: 1 | Epoch: 150, Loss: 0.06824, Train: 0.9826, Val: 0.7599, Best: 0.8224, early_stopping: 31\n",
      "index: 1 | Epoch: 200, Loss: 0.05470, Train: 0.9853, Val: 0.7764, Best: 0.8224, early_stopping: 81\n",
      "index: 2 | Epoch: 050, Loss: 0.32847, Train: 0.9121, Val: 0.7435, Best: 0.7456, early_stopping: 1\n",
      "index: 2 | Epoch: 100, Loss: 0.13313, Train: 0.9707, Val: 0.7901, Best: 0.7807, early_stopping: 15\n",
      "index: 2 | Epoch: 150, Loss: 0.08827, Train: 0.9789, Val: 0.7901, Best: 0.7982, early_stopping: 26\n",
      "index: 2 | Epoch: 200, Loss: 0.05057, Train: 0.9881, Val: 0.7984, Best: 0.7982, early_stopping: 76\n",
      "index: 3 | Epoch: 050, Loss: 0.28735, Train: 0.9386, Val: 0.7462, Best: 0.75, early_stopping: 1\n",
      "index: 3 | Epoch: 100, Loss: 0.10581, Train: 0.9826, Val: 0.7846, Best: 0.7785, early_stopping: 1\n",
      "index: 3 | Epoch: 150, Loss: 0.06251, Train: 0.9817, Val: 0.7819, Best: 0.7785, early_stopping: 51\n",
      "index: 4 | Epoch: 050, Loss: 0.33438, Train: 0.9212, Val: 0.7572, Best: 0.7434, early_stopping: 0\n",
      "index: 4 | Epoch: 100, Loss: 0.12046, Train: 0.9780, Val: 0.7750, Best: 0.7851, early_stopping: 9\n",
      "index: 4 | Epoch: 150, Loss: 0.06441, Train: 0.9853, Val: 0.7668, Best: 0.7851, early_stopping: 59\n",
      "index: 5 | Epoch: 050, Loss: 0.31771, Train: 0.9295, Val: 0.7531, Best: 0.7632, early_stopping: 0\n",
      "index: 5 | Epoch: 100, Loss: 0.15030, Train: 0.9652, Val: 0.7668, Best: 0.7851, early_stopping: 3\n",
      "index: 5 | Epoch: 150, Loss: 0.08379, Train: 0.9799, Val: 0.7668, Best: 0.7873, early_stopping: 3\n",
      "index: 5 | Epoch: 200, Loss: 0.05940, Train: 0.9881, Val: 0.7819, Best: 0.7917, early_stopping: 16\n",
      "index: 5 | Epoch: 250, Loss: 0.05523, Train: 0.9844, Val: 0.7750, Best: 0.7829, early_stopping: 11\n",
      "index: 5 | Epoch: 300, Loss: 0.03208, Train: 0.9918, Val: 0.7778, Best: 0.7829, early_stopping: 61\n",
      "index: 6 | Epoch: 050, Loss: 0.30143, Train: 0.9377, Val: 0.7449, Best: 0.7303, early_stopping: 10\n",
      "index: 6 | Epoch: 100, Loss: 0.11576, Train: 0.9753, Val: 0.7654, Best: 0.7829, early_stopping: 6\n",
      "index: 6 | Epoch: 150, Loss: 0.07825, Train: 0.9789, Val: 0.7641, Best: 0.8004, early_stopping: 34\n",
      "index: 6 | Epoch: 200, Loss: 0.06159, Train: 0.9863, Val: 0.7682, Best: 0.7961, early_stopping: 24\n",
      "index: 6 | Epoch: 250, Loss: 0.03675, Train: 0.9899, Val: 0.7709, Best: 0.7961, early_stopping: 74\n",
      "index: 6 | Epoch: 300, Loss: 0.03585, Train: 0.9927, Val: 0.7695, Best: 0.8004, early_stopping: 23\n",
      "index: 6 | Epoch: 350, Loss: 0.03173, Train: 0.9908, Val: 0.7764, Best: 0.8004, early_stopping: 73\n",
      "index: 7 | Epoch: 050, Loss: 0.27769, Train: 0.9258, Val: 0.7119, Best: 0.7434, early_stopping: 3\n",
      "index: 7 | Epoch: 100, Loss: 0.13467, Train: 0.9652, Val: 0.7407, Best: 0.7982, early_stopping: 17\n",
      "index: 7 | Epoch: 150, Loss: 0.08588, Train: 0.9789, Val: 0.7572, Best: 0.7982, early_stopping: 12\n",
      "index: 7 | Epoch: 200, Loss: 0.04992, Train: 0.9853, Val: 0.7627, Best: 0.8048, early_stopping: 24\n",
      "index: 7 | Epoch: 250, Loss: 0.06971, Train: 0.9826, Val: 0.7627, Best: 0.8048, early_stopping: 48\n",
      "index: 7 | Epoch: 300, Loss: 0.04506, Train: 0.9835, Val: 0.7558, Best: 0.8048, early_stopping: 98\n",
      "index: 8 | Epoch: 050, Loss: 0.30251, Train: 0.9313, Val: 0.7572, Best: 0.7632, early_stopping: 0\n",
      "index: 8 | Epoch: 100, Loss: 0.11547, Train: 0.9744, Val: 0.7846, Best: 0.8004, early_stopping: 20\n",
      "index: 8 | Epoch: 150, Loss: 0.06845, Train: 0.9835, Val: 0.7737, Best: 0.807, early_stopping: 48\n",
      "index: 8 | Epoch: 200, Loss: 0.11063, Train: 0.9771, Val: 0.7737, Best: 0.807, early_stopping: 98\n",
      "index: 9 | Epoch: 050, Loss: 0.28870, Train: 0.9277, Val: 0.7394, Best: 0.7829, early_stopping: 3\n",
      "index: 9 | Epoch: 100, Loss: 0.12023, Train: 0.9753, Val: 0.7641, Best: 0.7807, early_stopping: 31\n",
      "index: 9 | Epoch: 150, Loss: 0.06611, Train: 0.9872, Val: 0.7586, Best: 0.7807, early_stopping: 81\n",
      "test acc: 0.793640 +/- 0.014429\n",
      "[0.7763157894736842, 0.8223684210526315, 0.7982456140350878, 0.7785087719298246, 0.7850877192982456, 0.7828947368421053, 0.8004385964912281, 0.8048245614035088, 0.8070175438596491, 0.7807017543859649]\n"
     ]
    }
   ],
   "source": [
    "in_channels = data.x.shape[-1]\n",
    "out_channels = data.y.max().item() + 1\n",
    "hidden_channels = 128\n",
    "num_layers = 4\n",
    "lr = 5e-3\n",
    "wd = 0\n",
    "dropout_rate = 0\n",
    "alpha = 0\n",
    "normalize = True\n",
    "jumping_knolwedge = 'cat'\n",
    "self_loop = False\n",
    "self_feature_transform = False\n",
    "\n",
    "\n",
    "\n",
    "seed = 42\n",
    "set_seed(seed)\n",
    "test_accs = []     \n",
    "\n",
    "for index in range(10):\n",
    "\n",
    "    model = FuzzyDirGCN(\n",
    "        in_channels=data.x.shape[-1], \n",
    "        hidden_channels=hidden_channels, \n",
    "        out_channels=data.y.max().item() + 1, \n",
    "        num_layers=num_layers,\n",
    "        num_nodes=num_nodes,\n",
    "        num_edges=num_edges,\n",
    "        alpha=alpha,\n",
    "        normalize=normalize,\n",
    "        self_feature_transform=self_feature_transform,\n",
    "        self_loop=self_loop,\n",
    "        layerwise_theta=False,\n",
    "        regression=False,\n",
    "        dropout_rate=dropout_rate,\n",
    "        jumping_knowledge=jumping_knolwedge).to(device) \n",
    "    model.reset_parameters()\n",
    "\n",
    "    optimizer = torch.optim.Adam(model.parameters(), lr=lr, weight_decay=wd)\n",
    "\n",
    "    \n",
    "    best_val_acc = 0.0\n",
    "    best_test_acc = 0.0\n",
    "    n_non_decreasing_step = 0\n",
    "\n",
    "    for epoch in range(1, 1000):\n",
    "        tr_loss = train(\n",
    "            data.x, data.y, model, optimizer, \n",
    "            edge_index, theta, edge_weight.to(device), \n",
    "            train_mask, index)\n",
    "        train_acc, val_acc, test_acc = test(\n",
    "            data.x, data.y, model, optimizer, \n",
    "            edge_index, theta, edge_weight.to(device), \n",
    "            (train_mask, val_mask, test_mask), index)\n",
    "        if val_acc > best_val_acc:\n",
    "            best_val_acc = val_acc\n",
    "            best_test_acc = test_acc\n",
    "            n_non_decreasing_step = 0\n",
    "        else:\n",
    "            n_non_decreasing_step += 1\n",
    "        \n",
    "        if n_non_decreasing_step > 200:\n",
    "            break\n",
    "    \n",
    "        if epoch % 50 == 0:\n",
    "            print(f'index: {index} | '\n",
    "                  f'Epoch: {epoch:03d}, Loss: {tr_loss:.5f}, Train: {train_acc:.4f}, Val: {val_acc:.4f}, '\n",
    "                  f'Best: {best_test_acc:.4}, early_stopping: {n_non_decreasing_step}')\n",
    "\n",
    "        \n",
    "    \n",
    "    # for n, p in model.named_parameters():\n",
    "    #     print(n, p)\n",
    "    test_accs.append(best_test_acc)\n",
    "    # plt.figure(figsize=(4, 3))\n",
    "    # plt.plot(theta.detach().cpu().numpy(), 'o')\n",
    "    # plt.ylim(0, np.pi/2)\n",
    "    # plt.show()\n",
    "        \n",
    "print(f'test acc: {np.mean(test_accs):.6f} +/- {np.std(test_accs):.6f}')\n",
    "print(test_accs)\n"
   ]
  },
  {
   "cell_type": "code",
   "execution_count": null,
   "id": "e30f77a6-adde-4a8a-9d3b-10b33afb6f77",
   "metadata": {},
   "outputs": [],
   "source": []
  }
 ],
 "metadata": {
  "kernelspec": {
   "display_name": "torch2-gpu",
   "language": "python",
   "name": "your_environment_name"
  },
  "language_info": {
   "codemirror_mode": {
    "name": "ipython",
    "version": 3
   },
   "file_extension": ".py",
   "mimetype": "text/x-python",
   "name": "python",
   "nbconvert_exporter": "python",
   "pygments_lexer": "ipython3",
   "version": "3.11.9"
  }
 },
 "nbformat": 4,
 "nbformat_minor": 5
}
